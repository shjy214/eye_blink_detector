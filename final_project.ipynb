{
 "cells": [
  {
   "cell_type": "code",
   "execution_count": 1,
   "metadata": {},
   "outputs": [],
   "source": [
    "import datetime\n",
    "import numpy as np\n",
    "import matplotlib.pyplot as plt\n",
    "from keras.layers import Input, Activation, Conv2D, Flatten, Dense, MaxPooling2D\n",
    "from keras.models import Model, load_model\n",
    "from keras.preprocessing.image import ImageDataGenerator\n",
    "from keras.callbacks import ModelCheckpoint, ReduceLROnPlateau\n",
    "plt.style.use('dark_background') "
   ]
  },
  {
   "cell_type": "code",
   "execution_count": 2,
   "metadata": {},
   "outputs": [
    {
     "name": "stdout",
     "output_type": "stream",
     "text": [
      "(2586, 26, 34, 1) (2586, 1)\n",
      "(288, 26, 34, 1) (288, 1)\n"
     ]
    }
   ],
   "source": [
    "x_train = np.load('x_train.npy').astype(np.float32)\n",
    "y_train = np.load('y_train.npy').astype(np.float32)\n",
    "x_val = np.load('x_val.npy').astype(np.float32)\n",
    "y_val = np.load('y_val.npy').astype(np.float32)\n",
    "\n",
    "print(x_train.shape, y_train.shape)\n",
    "print(x_val.shape, y_val.shape)"
   ]
  },
  {
   "cell_type": "code",
   "execution_count": 3,
   "metadata": {},
   "outputs": [
    {
     "data": {
      "text/plain": [
       "<matplotlib.image.AxesImage at 0x1332d020cd0>"
      ]
     },
     "execution_count": 3,
     "metadata": {},
     "output_type": "execute_result"
    },
    {
     "data": {
      "image/png": "[encoded data removed]",
      "text/plain": [
       "<Figure size 432x288 with 2 Axes>"
      ]
     },
     "metadata": {},
     "output_type": "display_data"
    }
   ],
   "source": [
    "plt.subplot(2, 1, 1)\n",
    "plt.title(str(y_train[0]))\n",
    "plt.imshow(x_train[0].reshape((26, 34)), cmap='gray')\n",
    "plt.subplot(2, 1, 2)\n",
    "plt.title(str(y_val[4]))\n",
    "plt.imshow(x_val[4].reshape((26, 34)), cmap='gray')"
   ]
  },
  {
   "cell_type": "code",
   "execution_count": 4,
   "metadata": {},
   "outputs": [],
   "source": [
    "train_datagen = ImageDataGenerator(\n",
    "    rescale=1./255,\n",
    "    rotation_range=10,\n",
    "    width_shift_range=0.2,\n",
    "    height_shift_range=0.2,\n",
    "    shear_range=0.2\n",
    ")\n",
    "\n",
    "val_datagen = ImageDataGenerator(rescale=1./255)\n",
    "\n",
    "train_generator = train_datagen.flow(\n",
    "    x=x_train, y=y_train,\n",
    "    batch_size=32,\n",
    "    shuffle=True\n",
    ")\n",
    "\n",
    "val_generator = val_datagen.flow(\n",
    "    x=x_val, y=y_val,\n",
    "    batch_size=32,\n",
    "    shuffle=False\n",
    ")"
   ]
  },
  {
   "cell_type": "code",
   "execution_count": 5,
   "metadata": {},
   "outputs": [
    {
     "name": "stdout",
     "output_type": "stream",
     "text": [
      "Model: \"model\"\n",
      "_________________________________________________________________\n",
      "Layer (type)                 Output Shape              Param #   \n",
      "=================================================================\n",
      "input_1 (InputLayer)         [(None, 26, 34, 1)]       0         \n",
      "_________________________________________________________________\n",
      "conv2d (Conv2D)              (None, 26, 34, 32)        320       \n",
      "_________________________________________________________________\n",
      "max_pooling2d (MaxPooling2D) (None, 13, 17, 32)        0         \n",
      "_________________________________________________________________\n",
      "conv2d_1 (Conv2D)            (None, 13, 17, 64)        18496     \n",
      "_________________________________________________________________\n",
      "max_pooling2d_1 (MaxPooling2 (None, 6, 8, 64)          0         \n",
      "_________________________________________________________________\n",
      "conv2d_2 (Conv2D)            (None, 6, 8, 128)         73856     \n",
      "_________________________________________________________________\n",
      "max_pooling2d_2 (MaxPooling2 (None, 3, 4, 128)         0         \n",
      "_________________________________________________________________\n",
      "flatten (Flatten)            (None, 1536)              0         \n",
      "_________________________________________________________________\n",
      "dense (Dense)                (None, 512)               786944    \n",
      "_________________________________________________________________\n",
      "activation (Activation)      (None, 512)               0         \n",
      "_________________________________________________________________\n",
      "dense_1 (Dense)              (None, 1)                 513       \n",
      "_________________________________________________________________\n",
      "activation_1 (Activation)    (None, 1)                 0         \n",
      "=================================================================\n",
      "Total params: 880,129\n",
      "Trainable params: 880,129\n",
      "Non-trainable params: 0\n",
      "_________________________________________________________________\n"
     ]
    }
   ],
   "source": [
    "inputs = Input(shape=(26, 34, 1))\n",
    "\n",
    "net = Conv2D(32, kernel_size=3, strides=1, padding='same', activation='relu')(inputs)\n",
    "net = MaxPooling2D(pool_size=2)(net)\n",
    "\n",
    "net = Conv2D(64, kernel_size=3, strides=1, padding='same', activation='relu')(net)\n",
    "net = MaxPooling2D(pool_size=2)(net)\n",
    "\n",
    "net = Conv2D(128, kernel_size=3, strides=1, padding='same', activation='relu')(net)\n",
    "net = MaxPooling2D(pool_size=2)(net)\n",
    "\n",
    "net = Flatten()(net)\n",
    "\n",
    "net = Dense(512)(net)\n",
    "net = Activation('relu')(net)\n",
    "net = Dense(1)(net)\n",
    "outputs = Activation('sigmoid')(net)\n",
    "\n",
    "model = Model(inputs=inputs, outputs=outputs)\n",
    "\n",
    "model.compile(optimizer='adam', loss='binary_crossentropy', metrics=['acc'])\n",
    "\n",
    "model.summary()"
   ]
  },
  {
   "cell_type": "code",
   "execution_count": 6,
   "metadata": {},
   "outputs": [
    {
     "name": "stderr",
     "output_type": "stream",
     "text": [
      "C:\\ProgramData\\Anaconda3\\lib\\site-packages\\tensorflow\\python\\keras\\engine\\training.py:1844: UserWarning: `Model.fit_generator` is deprecated and will be removed in a future version. Please use `Model.fit`, which supports generators.\n",
      "  warnings.warn('`Model.fit_generator` is deprecated and '\n"
     ]
    },
    {
     "name": "stdout",
     "output_type": "stream",
     "text": [
      "Epoch 1/50\n",
      "81/81 [==============================] - 3s 31ms/step - loss: 0.5599 - acc: 0.6905 - val_loss: 0.2316 - val_acc: 0.9062\n",
      "\n",
      "Epoch 00001: val_acc improved from -inf to 0.90625, saving model to models\\2021_06_06_23_38_38.h5\n",
      "Epoch 2/50\n",
      "81/81 [==============================] - 2s 20ms/step - loss: 0.2510 - acc: 0.8974 - val_loss: 0.1237 - val_acc: 0.9549\n",
      "\n",
      "Epoch 00002: val_acc improved from 0.90625 to 0.95486, saving model to models\\2021_06_06_23_38_38.h5\n",
      "Epoch 3/50\n",
      "81/81 [==============================] - 2s 20ms/step - loss: 0.1624 - acc: 0.9423 - val_loss: 0.0906 - val_acc: 0.9583\n",
      "\n",
      "Epoch 00003: val_acc improved from 0.95486 to 0.95833, saving model to models\\2021_06_06_23_38_38.h5\n",
      "Epoch 4/50\n",
      "81/81 [==============================] - 2s 20ms/step - loss: 0.1394 - acc: 0.9557 - val_loss: 0.0543 - val_acc: 0.9722\n",
      "\n",
      "Epoch 00004: val_acc improved from 0.95833 to 0.97222, saving model to models\\2021_06_06_23_38_38.h5\n",
      "Epoch 5/50\n",
      "81/81 [==============================] - 2s 20ms/step - loss: 0.1207 - acc: 0.9543 - val_loss: 0.0728 - val_acc: 0.9722\n",
      "\n",
      "Epoch 00005: val_acc did not improve from 0.97222\n",
      "Epoch 6/50\n",
      "81/81 [==============================] - 2s 20ms/step - loss: 0.1004 - acc: 0.9659 - val_loss: 0.0603 - val_acc: 0.9792\n",
      "\n",
      "Epoch 00006: val_acc improved from 0.97222 to 0.97917, saving model to models\\2021_06_06_23_38_38.h5\n",
      "Epoch 7/50\n",
      "81/81 [==============================] - 2s 21ms/step - loss: 0.0966 - acc: 0.9684 - val_loss: 0.0363 - val_acc: 0.9896\n",
      "\n",
      "Epoch 00007: val_acc improved from 0.97917 to 0.98958, saving model to models\\2021_06_06_23_38_38.h5\n",
      "Epoch 8/50\n",
      "81/81 [==============================] - 2s 23ms/step - loss: 0.0706 - acc: 0.9756 - val_loss: 0.0505 - val_acc: 0.9826\n",
      "\n",
      "Epoch 00008: val_acc did not improve from 0.98958\n",
      "Epoch 9/50\n",
      "81/81 [==============================] - 2s 25ms/step - loss: 0.0720 - acc: 0.9727 - val_loss: 0.0416 - val_acc: 0.9861\n",
      "\n",
      "Epoch 00009: val_acc did not improve from 0.98958\n",
      "Epoch 10/50\n",
      "81/81 [==============================] - 2s 28ms/step - loss: 0.0496 - acc: 0.9832 - val_loss: 0.0604 - val_acc: 0.9826\n",
      "\n",
      "Epoch 00010: val_acc did not improve from 0.98958\n",
      "Epoch 11/50\n",
      "81/81 [==============================] - 2s 23ms/step - loss: 0.0560 - acc: 0.9858 - val_loss: 0.0453 - val_acc: 0.9792\n",
      "\n",
      "Epoch 00011: val_acc did not improve from 0.98958\n",
      "Epoch 12/50\n",
      "81/81 [==============================] - 2s 21ms/step - loss: 0.0595 - acc: 0.9827 - val_loss: 0.0386 - val_acc: 0.9826\n",
      "\n",
      "Epoch 00012: val_acc did not improve from 0.98958\n",
      "Epoch 13/50\n",
      "81/81 [==============================] - 2s 22ms/step - loss: 0.0511 - acc: 0.9874 - val_loss: 0.0171 - val_acc: 0.9896\n",
      "\n",
      "Epoch 00013: val_acc did not improve from 0.98958\n",
      "Epoch 14/50\n",
      "81/81 [==============================] - 2s 21ms/step - loss: 0.0474 - acc: 0.9859 - val_loss: 0.0102 - val_acc: 0.9965\n",
      "\n",
      "Epoch 00014: val_acc improved from 0.98958 to 0.99653, saving model to models\\2021_06_06_23_38_38.h5\n",
      "Epoch 15/50\n",
      "81/81 [==============================] - 2s 21ms/step - loss: 0.0481 - acc: 0.9863 - val_loss: 0.0133 - val_acc: 0.9931\n",
      "\n",
      "Epoch 00015: val_acc did not improve from 0.99653\n",
      "Epoch 16/50\n",
      "81/81 [==============================] - 2s 21ms/step - loss: 0.0296 - acc: 0.9933 - val_loss: 0.0170 - val_acc: 0.9931\n",
      "\n",
      "Epoch 00016: val_acc did not improve from 0.99653\n",
      "Epoch 17/50\n",
      "81/81 [==============================] - 2s 22ms/step - loss: 0.0424 - acc: 0.9858 - val_loss: 0.0440 - val_acc: 0.9826\n",
      "\n",
      "Epoch 00017: val_acc did not improve from 0.99653\n",
      "Epoch 18/50\n",
      "81/81 [==============================] - 2s 24ms/step - loss: 0.0389 - acc: 0.9844 - val_loss: 0.0208 - val_acc: 0.9861\n",
      "\n",
      "Epoch 00018: val_acc did not improve from 0.99653\n",
      "Epoch 19/50\n",
      "81/81 [==============================] - 2s 23ms/step - loss: 0.0379 - acc: 0.9860 - val_loss: 0.0113 - val_acc: 0.9931\n",
      "\n",
      "Epoch 00019: val_acc did not improve from 0.99653\n",
      "Epoch 20/50\n",
      "81/81 [==============================] - 2s 23ms/step - loss: 0.0336 - acc: 0.9869 - val_loss: 0.0296 - val_acc: 0.9931\n",
      "\n",
      "Epoch 00020: val_acc did not improve from 0.99653\n",
      "Epoch 21/50\n",
      "81/81 [==============================] - 2s 23ms/step - loss: 0.0208 - acc: 0.9926 - val_loss: 0.0198 - val_acc: 0.9861\n",
      "\n",
      "Epoch 00021: val_acc did not improve from 0.99653\n",
      "Epoch 22/50\n",
      "81/81 [==============================] - 2s 22ms/step - loss: 0.0315 - acc: 0.9906 - val_loss: 0.0190 - val_acc: 0.9965\n",
      "\n",
      "Epoch 00022: val_acc did not improve from 0.99653\n",
      "Epoch 23/50\n",
      "81/81 [==============================] - 2s 22ms/step - loss: 0.0203 - acc: 0.9918 - val_loss: 0.0109 - val_acc: 0.9931\n",
      "\n",
      "Epoch 00023: val_acc did not improve from 0.99653\n",
      "Epoch 24/50\n",
      "81/81 [==============================] - 2s 24ms/step - loss: 0.0287 - acc: 0.9904 - val_loss: 0.0543 - val_acc: 0.9896\n",
      "\n",
      "Epoch 00024: val_acc did not improve from 0.99653\n",
      "\n",
      "Epoch 00024: ReduceLROnPlateau reducing learning rate to 0.00020000000949949026.\n",
      "Epoch 25/50\n",
      "81/81 [==============================] - 2s 24ms/step - loss: 0.0340 - acc: 0.9927 - val_loss: 0.0170 - val_acc: 0.9931\n",
      "\n",
      "Epoch 00025: val_acc did not improve from 0.99653\n",
      "Epoch 26/50\n",
      "81/81 [==============================] - 2s 25ms/step - loss: 0.0105 - acc: 0.9958 - val_loss: 0.0087 - val_acc: 0.9965\n",
      "\n",
      "Epoch 00026: val_acc did not improve from 0.99653\n",
      "Epoch 27/50\n",
      "81/81 [==============================] - 2s 28ms/step - loss: 0.0160 - acc: 0.9960 - val_loss: 0.0249 - val_acc: 0.9931\n",
      "\n",
      "Epoch 00027: val_acc did not improve from 0.99653\n",
      "Epoch 28/50\n",
      "81/81 [==============================] - 2s 26ms/step - loss: 0.0172 - acc: 0.9955 - val_loss: 0.0038 - val_acc: 1.0000\n",
      "\n",
      "Epoch 00028: val_acc improved from 0.99653 to 1.00000, saving model to models\\2021_06_06_23_38_38.h5\n",
      "Epoch 29/50\n",
      "81/81 [==============================] - 2s 25ms/step - loss: 0.0120 - acc: 0.9950 - val_loss: 0.0038 - val_acc: 1.0000\n",
      "\n",
      "Epoch 00029: val_acc did not improve from 1.00000\n",
      "Epoch 30/50\n",
      "81/81 [==============================] - 2s 22ms/step - loss: 0.0103 - acc: 0.9969 - val_loss: 0.0230 - val_acc: 0.9931\n",
      "\n",
      "Epoch 00030: val_acc did not improve from 1.00000\n",
      "Epoch 31/50\n",
      "81/81 [==============================] - 2s 23ms/step - loss: 0.0114 - acc: 0.9972 - val_loss: 0.0141 - val_acc: 0.9931\n",
      "\n",
      "Epoch 00031: val_acc did not improve from 1.00000\n",
      "Epoch 32/50\n",
      "81/81 [==============================] - 2s 24ms/step - loss: 0.0063 - acc: 0.9987 - val_loss: 0.0037 - val_acc: 1.0000\n",
      "\n",
      "Epoch 00032: val_acc did not improve from 1.00000\n",
      "Epoch 33/50\n",
      "81/81 [==============================] - 2s 24ms/step - loss: 0.0159 - acc: 0.9949 - val_loss: 0.0163 - val_acc: 0.9965\n",
      "\n",
      "Epoch 00033: val_acc did not improve from 1.00000\n",
      "Epoch 34/50\n",
      "81/81 [==============================] - 2s 24ms/step - loss: 0.0100 - acc: 0.9955 - val_loss: 0.0204 - val_acc: 0.9965\n",
      "\n",
      "Epoch 00034: val_acc did not improve from 1.00000\n",
      "Epoch 35/50\n",
      "81/81 [==============================] - 2s 23ms/step - loss: 0.0052 - acc: 0.9989 - val_loss: 0.0271 - val_acc: 0.9931\n",
      "\n",
      "Epoch 00035: val_acc did not improve from 1.00000\n",
      "Epoch 36/50\n",
      "81/81 [==============================] - 2s 23ms/step - loss: 0.0110 - acc: 0.9963 - val_loss: 0.0107 - val_acc: 0.9931\n",
      "\n",
      "Epoch 00036: val_acc did not improve from 1.00000\n",
      "Epoch 37/50\n",
      "81/81 [==============================] - 2s 23ms/step - loss: 0.0038 - acc: 0.9989 - val_loss: 0.0093 - val_acc: 0.9965\n",
      "\n",
      "Epoch 00037: val_acc did not improve from 1.00000\n",
      "Epoch 38/50\n",
      "81/81 [==============================] - 2s 23ms/step - loss: 0.0055 - acc: 0.9984 - val_loss: 0.0068 - val_acc: 0.9965\n",
      "\n",
      "Epoch 00038: val_acc did not improve from 1.00000\n",
      "\n",
      "Epoch 00038: ReduceLROnPlateau reducing learning rate to 4.0000001899898055e-05.\n",
      "Epoch 39/50\n",
      "81/81 [==============================] - 2s 23ms/step - loss: 0.0123 - acc: 0.9952 - val_loss: 0.0114 - val_acc: 0.9965\n",
      "\n",
      "Epoch 00039: val_acc did not improve from 1.00000\n",
      "Epoch 40/50\n",
      "81/81 [==============================] - 2s 23ms/step - loss: 0.0038 - acc: 0.9991 - val_loss: 0.0102 - val_acc: 0.9965\n",
      "\n",
      "Epoch 00040: val_acc did not improve from 1.00000\n",
      "Epoch 41/50\n",
      "81/81 [==============================] - 2s 24ms/step - loss: 0.0049 - acc: 0.9984 - val_loss: 0.0154 - val_acc: 0.9965\n",
      "\n",
      "Epoch 00041: val_acc did not improve from 1.00000\n",
      "Epoch 42/50\n",
      "81/81 [==============================] - 2s 23ms/step - loss: 0.0047 - acc: 0.9995 - val_loss: 0.0156 - val_acc: 0.9965\n",
      "\n",
      "Epoch 00042: val_acc did not improve from 1.00000\n",
      "Epoch 43/50\n",
      "81/81 [==============================] - 2s 24ms/step - loss: 0.0029 - acc: 0.9992 - val_loss: 0.0207 - val_acc: 0.9965\n",
      "\n",
      "Epoch 00043: val_acc did not improve from 1.00000\n",
      "Epoch 44/50\n",
      "81/81 [==============================] - 2s 25ms/step - loss: 0.0091 - acc: 0.9968 - val_loss: 0.0138 - val_acc: 0.9965\n",
      "\n",
      "Epoch 00044: val_acc did not improve from 1.00000\n",
      "Epoch 45/50\n",
      "81/81 [==============================] - 2s 24ms/step - loss: 0.0066 - acc: 0.9971 - val_loss: 0.0105 - val_acc: 0.9965\n",
      "\n",
      "Epoch 00045: val_acc did not improve from 1.00000\n",
      "Epoch 46/50\n",
      "81/81 [==============================] - 2s 22ms/step - loss: 0.0045 - acc: 0.9977 - val_loss: 0.0087 - val_acc: 0.9965\n",
      "\n",
      "Epoch 00046: val_acc did not improve from 1.00000\n",
      "Epoch 47/50\n",
      "81/81 [==============================] - 2s 23ms/step - loss: 0.0065 - acc: 0.9978 - val_loss: 0.0061 - val_acc: 0.9965\n",
      "\n",
      "Epoch 00047: val_acc did not improve from 1.00000\n",
      "Epoch 48/50\n",
      "81/81 [==============================] - 2s 24ms/step - loss: 0.0021 - acc: 0.9995 - val_loss: 0.0021 - val_acc: 1.0000\n",
      "\n",
      "Epoch 00048: val_acc did not improve from 1.00000\n",
      "\n",
      "Epoch 00048: ReduceLROnPlateau reducing learning rate to 1e-05.\n",
      "Epoch 49/50\n",
      "81/81 [==============================] - 2s 22ms/step - loss: 0.0023 - acc: 0.9995 - val_loss: 0.0021 - val_acc: 1.0000\n",
      "\n",
      "Epoch 00049: val_acc did not improve from 1.00000\n",
      "Epoch 50/50\n",
      "81/81 [==============================] - 2s 22ms/step - loss: 0.0057 - acc: 0.9980 - val_loss: 0.0026 - val_acc: 1.0000\n",
      "\n",
      "Epoch 00050: val_acc did not improve from 1.00000\n"
     ]
    },
    {
     "data": {
      "text/plain": [
       "<tensorflow.python.keras.callbacks.History at 0x1332d250dc0>"
      ]
     },
     "execution_count": 6,
     "metadata": {},
     "output_type": "execute_result"
    }
   ],
   "source": [
    "start_time = datetime.datetime.now().strftime('%Y_%m_%d_%H_%M_%S')\n",
    "\n",
    "model.fit_generator(\n",
    "    train_generator, epochs=50, validation_data=val_generator,\n",
    "    callbacks=[\n",
    "        ModelCheckpoint('models/%s.h5' % (start_time), monitor='val_acc', save_best_only=True, mode='max', verbose=1),\n",
    "        ReduceLROnPlateau(monitor='val_acc', factor=0.2, patience=10, verbose=1, mode='auto', min_lr=1e-05)\n",
    "    ]\n",
    ")"
   ]
  },
  {
   "cell_type": "code",
   "execution_count": 7,
   "metadata": {},
   "outputs": [
    {
     "name": "stdout",
     "output_type": "stream",
     "text": [
      "test acc: 1.0\n"
     ]
    },
    {
     "data": {
      "text/plain": [
       "<AxesSubplot:>"
      ]
     },
     "execution_count": 7,
     "metadata": {},
     "output_type": "execute_result"
    },
    {
     "data": {
      "image/png": "[encoded data removed]",
      "text/plain": [
       "<Figure size 432x288 with 2 Axes>"
      ]
     },
     "metadata": {},
     "output_type": "display_data"
    }
   ],
   "source": [
    "from sklearn.metrics import accuracy_score, confusion_matrix\n",
    "import seaborn as sns\n",
    "\n",
    "model = load_model('models/%s.h5' % (start_time))\n",
    "\n",
    "y_pred = model.predict(x_val/255.)\n",
    "y_pred_logical = (y_pred > 0.5).astype(np.int)\n",
    "\n",
    "print ('test acc: %s' % accuracy_score(y_val, y_pred_logical))\n",
    "cm = confusion_matrix(y_val, y_pred_logical)\n",
    "sns.heatmap(cm, annot=True)"
   ]
  },
  {
   "cell_type": "code",
   "execution_count": 8,
   "metadata": {},
   "outputs": [
    {
     "name": "stderr",
     "output_type": "stream",
     "text": [
      "C:\\ProgramData\\Anaconda3\\lib\\site-packages\\seaborn\\distributions.py:2551: FutureWarning: `distplot` is a deprecated function and will be removed in a future version. Please adapt your code to use either `displot` (a figure-level function with similar flexibility) or `histplot` (an axes-level function for histograms).\n",
      "  warnings.warn(msg, FutureWarning)\n"
     ]
    },
    {
     "data": {
      "image/png": "[encoded data removed]",
      "text/plain": [
       "<Figure size 432x288 with 1 Axes>"
      ]
     },
     "metadata": {},
     "output_type": "display_data"
    }
   ],
   "source": [
    "ax = sns.distplot(y_pred, kde=False)"
   ]
  },
  {
   "cell_type": "code",
   "execution_count": null,
   "metadata": {},
   "outputs": [],
   "source": []
  }
 ],
 "metadata": {
  "kernelspec": {
   "display_name": "Python 3",
   "language": "python",
   "name": "python3"
  },
  "language_info": {
   "codemirror_mode": {
    "name": "ipython",
    "version": 3
   },
   "file_extension": ".py",
   "mimetype": "text/x-python",
   "name": "python",
   "nbconvert_exporter": "python",
   "pygments_lexer": "ipython3",
   "version": "3.8.5"
  }
 },
 "nbformat": 4,
 "nbformat_minor": 4
}
